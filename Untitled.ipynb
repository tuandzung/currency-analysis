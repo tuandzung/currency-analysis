{
 "cells": [
  {
   "cell_type": "code",
   "execution_count": 1,
   "metadata": {},
   "outputs": [],
   "source": [
    "import os\n",
    "os.environ['PYSPARK_SUBMIT_ARGS'] = '--packages com.hortonworks.shc:shc-core:1.1.0.3.1.2.8-3 pyspark-shell --files $SPARK_HOME/conf/hbase-site.xml'"
   ]
  },
  {
   "cell_type": "code",
   "execution_count": 1,
   "metadata": {},
   "outputs": [],
   "source": [
    "from pyspark.sql import SQLContext, SparkSession"
   ]
  },
  {
   "cell_type": "code",
   "execution_count": 2,
   "metadata": {},
   "outputs": [],
   "source": [
    "spark = SparkSession \\\n",
    "        .builder \\\n",
    "        .appName('test') \\\n",
    "        .config('spark.jars.packages', 'com.hortonworks.shc:shc-core:1.1.0.3.1.2.8-3') \\\n",
    "        .config('spark.jars.files', '/opt/spark/conf/hbase-site.xml') \\\n",
    "        .getOrCreate()"
   ]
  },
  {
   "cell_type": "code",
   "execution_count": 3,
   "metadata": {},
   "outputs": [],
   "source": [
    "sc = spark.sparkContext"
   ]
  },
  {
   "cell_type": "code",
   "execution_count": 4,
   "metadata": {},
   "outputs": [],
   "source": [
    "sqlc = SQLContext(sc)"
   ]
  },
  {
   "cell_type": "code",
   "execution_count": 5,
   "metadata": {},
   "outputs": [],
   "source": [
    "import json\n",
    "\n",
    "catalog = json.dumps({\n",
    "    \"table\": {\"namespace\": \"default\", \"name\": \"coins_5m\"},\n",
    "    \"rowkey\": \"key\",\n",
    "    \"columns\": {\n",
    "        \"id\":{\"cf\": \"rowkey\", \"col\": \"key\", \"type\": \"string\"},\n",
    "        \"open\":{\"cf\": \"p\", \"col\": \"open\", \"type\": \"double\"},\n",
    "        \"high\":{\"cf\": \"p\", \"col\": \"high\", \"type\": \"double\"},\n",
    "        \"low\":{\"cf\": \"p\", \"col\": \"low\", \"type\": \"double\"},\n",
    "        \"close\":{\"cf\": \"p\", \"col\": \"close\", \"type\": \"double\"},\n",
    "        \"vol_24h\":{\"cf\": \"p\", \"col\": \"volume\", \"type\": \"double\"},\n",
    "    }\n",
    "})"
   ]
  },
  {
   "cell_type": "code",
   "execution_count": 40,
   "metadata": {},
   "outputs": [
    {
     "name": "stdout",
     "output_type": "stream",
     "text": [
      "+---------------------------+--------+--------+--------+--------+--------------------+\n",
      "|id                         |open    |high    |low     |close   |vol_24h             |\n",
      "+---------------------------+--------+--------+--------+--------+--------------------+\n",
      "|BTC-USD#Coinbase#1596449700|11143.63|11163.57|11143.63|11162.09|1.4457616941306964E8|\n",
      "|BTC-USD#Coinbase#1596450000|11162.15|11168.18|11158.63|11167.86|1.444845425989536E8 |\n",
      "|BTC-USD#Coinbase#1596450300|11167.86|11173.74|11166.54|11173.74|1.4433968866627535E8|\n",
      "|BTC-USD#Coinbase#1596450600|11172.08|11178.25|11167.7 |11175.0 |1.44345217823883E8  |\n",
      "|BTC-USD#Coinbase#1596450900|11175.0 |11185.26|11171.02|11179.96|1.438641855321213E8 |\n",
      "|BTC-USD#Coinbase#1596451200|11180.22|11183.74|11168.77|11172.83|1.4342513910956854E8|\n",
      "|BTC-USD#Coinbase#1596451500|11172.26|11181.06|11171.03|11174.73|1.4334349131177264E8|\n",
      "|BTC-USD#Coinbase#1596451800|11174.58|11180.52|11173.64|11179.47|1.4066302199177676E8|\n",
      "|BTC-USD#Coinbase#1596452100|11179.36|11190.34|11179.32|11189.18|1.3966266469640934E8|\n",
      "|BTC-USD#Coinbase#1596452400|11189.18|11205.52|11187.99|11204.88|1.3964946299735186E8|\n",
      "+---------------------------+--------+--------+--------+--------+--------------------+\n",
      "only showing top 10 rows\n",
      "\n"
     ]
    }
   ],
   "source": [
    "import pyspark.sql.functions as F\n",
    "import pyspark.sql.types as t\n",
    "from datetime import datetime\n",
    "\n",
    "df = sqlc.read.options(catalog=catalog) \\\n",
    "    .format('org.apache.spark.sql.execution.datasources.hbase') \\\n",
    "    .load()\n",
    "df.show(10, False)"
   ]
  },
  {
   "cell_type": "code",
   "execution_count": 41,
   "metadata": {},
   "outputs": [
    {
     "name": "stdout",
     "output_type": "stream",
     "text": [
      "+---------------------------+--------+--------+--------+--------+--------------------+\n",
      "|id                         |open    |high    |low     |close   |vol_24h             |\n",
      "+---------------------------+--------+--------+--------+--------+--------------------+\n",
      "|BTC-USD#Coinbase#1596449700|11143.63|11163.57|11143.63|11162.09|1.4457616941306964E8|\n",
      "|BTC-USD#Coinbase#1596450000|11162.15|11168.18|11158.63|11167.86|1.444845425989536E8 |\n",
      "+---------------------------+--------+--------+--------+--------+--------------------+\n",
      "\n"
     ]
    }
   ],
   "source": [
    "df.filter(\"id >= 'BTC-USD#Coinbase#1596449000' AND id <= 'BTC-USD#Coinbase#1596450000'\") \\\n",
    "  .show(10, False)"
   ]
  },
  {
   "cell_type": "code",
   "execution_count": 42,
   "metadata": {},
   "outputs": [
    {
     "name": "stdout",
     "output_type": "stream",
     "text": [
      "+---------------------------+------+------+------+------+-------------------+\n",
      "|id                         |open  |high  |low   |close |vol_24h            |\n",
      "+---------------------------+------+------+------+------+-------------------+\n",
      "|ETH-USD#Coinbase#1596449700|381.27|382.55|381.27|382.13|9.731468652282022E7|\n",
      "|ETH-USD#Coinbase#1596450000|382.18|382.55|381.9 |382.49|9.71177370761074E7 |\n",
      "|ETH-USD#Coinbase#1596450300|382.49|382.93|382.16|382.93|9.70277130978783E7 |\n",
      "|ETH-USD#Coinbase#1596450600|382.93|382.93|382.45|382.5 |9.685948685794178E7|\n",
      "|ETH-USD#Coinbase#1596450900|382.49|383.1 |382.09|383.07|9.709986019180709E7|\n",
      "|ETH-USD#Coinbase#1596451200|383.2 |384.11|383.2 |383.76|9.692094872896694E7|\n",
      "|ETH-USD#Coinbase#1596451500|383.76|384.05|383.35|383.35|9.663960306510995E7|\n",
      "|ETH-USD#Coinbase#1596451800|383.35|383.93|383.28|383.93|9.576937305997811E7|\n",
      "|ETH-USD#Coinbase#1596452100|383.92|384.99|383.92|384.89|9.568097978383352E7|\n",
      "|ETH-USD#Coinbase#1596452400|384.89|385.75|384.77|385.61|9.577367931047718E7|\n",
      "+---------------------------+------+------+------+------+-------------------+\n",
      "\n"
     ]
    }
   ],
   "source": [
    "eth_df = df.filter(\"id LIKE 'ETH-USD%'\")\n",
    "eth_df.show(10, False)"
   ]
  },
  {
   "cell_type": "code",
   "execution_count": 21,
   "metadata": {},
   "outputs": [],
   "source": [
    "import plotly.graph_objs as go\n",
    "from plotly.offline import plot\n",
    "import pandas as pd"
   ]
  },
  {
   "cell_type": "code",
   "execution_count": 43,
   "metadata": {},
   "outputs": [
    {
     "data": {
      "text/html": [
       "<div>\n",
       "<style scoped>\n",
       "    .dataframe tbody tr th:only-of-type {\n",
       "        vertical-align: middle;\n",
       "    }\n",
       "\n",
       "    .dataframe tbody tr th {\n",
       "        vertical-align: top;\n",
       "    }\n",
       "\n",
       "    .dataframe thead th {\n",
       "        text-align: right;\n",
       "    }\n",
       "</style>\n",
       "<table border=\"1\" class=\"dataframe\">\n",
       "  <thead>\n",
       "    <tr style=\"text-align: right;\">\n",
       "      <th></th>\n",
       "      <th>symbol</th>\n",
       "      <th>exchange</th>\n",
       "      <th>time</th>\n",
       "      <th>open</th>\n",
       "      <th>high</th>\n",
       "      <th>low</th>\n",
       "      <th>close</th>\n",
       "      <th>vol_24h</th>\n",
       "    </tr>\n",
       "  </thead>\n",
       "  <tbody>\n",
       "    <tr>\n",
       "      <th>0</th>\n",
       "      <td>ETH-USD</td>\n",
       "      <td>Coinbase</td>\n",
       "      <td>2020-08-03 10:15:00</td>\n",
       "      <td>381.27</td>\n",
       "      <td>382.55</td>\n",
       "      <td>381.27</td>\n",
       "      <td>382.13</td>\n",
       "      <td>9.731469e+07</td>\n",
       "    </tr>\n",
       "    <tr>\n",
       "      <th>1</th>\n",
       "      <td>ETH-USD</td>\n",
       "      <td>Coinbase</td>\n",
       "      <td>2020-08-03 10:20:00</td>\n",
       "      <td>382.18</td>\n",
       "      <td>382.55</td>\n",
       "      <td>381.90</td>\n",
       "      <td>382.49</td>\n",
       "      <td>9.711774e+07</td>\n",
       "    </tr>\n",
       "    <tr>\n",
       "      <th>2</th>\n",
       "      <td>ETH-USD</td>\n",
       "      <td>Coinbase</td>\n",
       "      <td>2020-08-03 10:25:00</td>\n",
       "      <td>382.49</td>\n",
       "      <td>382.93</td>\n",
       "      <td>382.16</td>\n",
       "      <td>382.93</td>\n",
       "      <td>9.702771e+07</td>\n",
       "    </tr>\n",
       "    <tr>\n",
       "      <th>3</th>\n",
       "      <td>ETH-USD</td>\n",
       "      <td>Coinbase</td>\n",
       "      <td>2020-08-03 10:30:00</td>\n",
       "      <td>382.93</td>\n",
       "      <td>382.93</td>\n",
       "      <td>382.45</td>\n",
       "      <td>382.50</td>\n",
       "      <td>9.685949e+07</td>\n",
       "    </tr>\n",
       "    <tr>\n",
       "      <th>4</th>\n",
       "      <td>ETH-USD</td>\n",
       "      <td>Coinbase</td>\n",
       "      <td>2020-08-03 10:35:00</td>\n",
       "      <td>382.49</td>\n",
       "      <td>383.10</td>\n",
       "      <td>382.09</td>\n",
       "      <td>383.07</td>\n",
       "      <td>9.709986e+07</td>\n",
       "    </tr>\n",
       "    <tr>\n",
       "      <th>5</th>\n",
       "      <td>ETH-USD</td>\n",
       "      <td>Coinbase</td>\n",
       "      <td>2020-08-03 10:40:00</td>\n",
       "      <td>383.20</td>\n",
       "      <td>384.11</td>\n",
       "      <td>383.20</td>\n",
       "      <td>383.76</td>\n",
       "      <td>9.692095e+07</td>\n",
       "    </tr>\n",
       "    <tr>\n",
       "      <th>6</th>\n",
       "      <td>ETH-USD</td>\n",
       "      <td>Coinbase</td>\n",
       "      <td>2020-08-03 10:45:00</td>\n",
       "      <td>383.76</td>\n",
       "      <td>384.05</td>\n",
       "      <td>383.35</td>\n",
       "      <td>383.35</td>\n",
       "      <td>9.663960e+07</td>\n",
       "    </tr>\n",
       "    <tr>\n",
       "      <th>7</th>\n",
       "      <td>ETH-USD</td>\n",
       "      <td>Coinbase</td>\n",
       "      <td>2020-08-03 10:50:00</td>\n",
       "      <td>383.35</td>\n",
       "      <td>383.93</td>\n",
       "      <td>383.28</td>\n",
       "      <td>383.93</td>\n",
       "      <td>9.576937e+07</td>\n",
       "    </tr>\n",
       "    <tr>\n",
       "      <th>8</th>\n",
       "      <td>ETH-USD</td>\n",
       "      <td>Coinbase</td>\n",
       "      <td>2020-08-03 10:55:00</td>\n",
       "      <td>383.92</td>\n",
       "      <td>384.99</td>\n",
       "      <td>383.92</td>\n",
       "      <td>384.89</td>\n",
       "      <td>9.568098e+07</td>\n",
       "    </tr>\n",
       "    <tr>\n",
       "      <th>9</th>\n",
       "      <td>ETH-USD</td>\n",
       "      <td>Coinbase</td>\n",
       "      <td>2020-08-03 11:00:00</td>\n",
       "      <td>384.89</td>\n",
       "      <td>385.75</td>\n",
       "      <td>384.77</td>\n",
       "      <td>385.61</td>\n",
       "      <td>9.577368e+07</td>\n",
       "    </tr>\n",
       "  </tbody>\n",
       "</table>\n",
       "</div>"
      ],
      "text/plain": [
       "    symbol  exchange                time    open    high     low   close  \\\n",
       "0  ETH-USD  Coinbase 2020-08-03 10:15:00  381.27  382.55  381.27  382.13   \n",
       "1  ETH-USD  Coinbase 2020-08-03 10:20:00  382.18  382.55  381.90  382.49   \n",
       "2  ETH-USD  Coinbase 2020-08-03 10:25:00  382.49  382.93  382.16  382.93   \n",
       "3  ETH-USD  Coinbase 2020-08-03 10:30:00  382.93  382.93  382.45  382.50   \n",
       "4  ETH-USD  Coinbase 2020-08-03 10:35:00  382.49  383.10  382.09  383.07   \n",
       "5  ETH-USD  Coinbase 2020-08-03 10:40:00  383.20  384.11  383.20  383.76   \n",
       "6  ETH-USD  Coinbase 2020-08-03 10:45:00  383.76  384.05  383.35  383.35   \n",
       "7  ETH-USD  Coinbase 2020-08-03 10:50:00  383.35  383.93  383.28  383.93   \n",
       "8  ETH-USD  Coinbase 2020-08-03 10:55:00  383.92  384.99  383.92  384.89   \n",
       "9  ETH-USD  Coinbase 2020-08-03 11:00:00  384.89  385.75  384.77  385.61   \n",
       "\n",
       "        vol_24h  \n",
       "0  9.731469e+07  \n",
       "1  9.711774e+07  \n",
       "2  9.702771e+07  \n",
       "3  9.685949e+07  \n",
       "4  9.709986e+07  \n",
       "5  9.692095e+07  \n",
       "6  9.663960e+07  \n",
       "7  9.576937e+07  \n",
       "8  9.568098e+07  \n",
       "9  9.577368e+07  "
      ]
     },
     "execution_count": 43,
     "metadata": {},
     "output_type": "execute_result"
    }
   ],
   "source": [
    "@F.udf(t.StructType([t.StructField(\"symbol\", t.StringType(), True), t.StructField(\"exchange\", t.StringType(), True), t.StructField(\"time\", t.TimestampType(), True)]))\n",
    "def split_cols(array):\n",
    "    return (array[0], array[1], datetime.fromtimestamp(int(array[2])))\n",
    "\n",
    "eth_df = eth_df.withColumn('id', split_cols(F.split('id', '#'))) \\\n",
    "  .select('id.*', 'open', 'high', 'low', 'close', 'vol_24h')\n",
    "\n",
    "eth_pd = eth_df.toPandas()\n",
    "eth_pd.head(10)"
   ]
  },
  {
   "cell_type": "code",
   "execution_count": 44,
   "metadata": {},
   "outputs": [
    {
     "data": {
      "text/plain": [
       "'temp-plot.html'"
      ]
     },
     "execution_count": 44,
     "metadata": {},
     "output_type": "execute_result"
    }
   ],
   "source": [
    "fig = go.Figure(data=[go.Candlestick(x=eth_pd['time'],\n",
    "                open=eth_pd['open'],\n",
    "                high=eth_pd['high'],\n",
    "                low=eth_pd['low'],\n",
    "                close=eth_pd['close'])])\n",
    "plot(fig)"
   ]
  },
  {
   "cell_type": "code",
   "execution_count": null,
   "metadata": {},
   "outputs": [],
   "source": []
  }
 ],
 "metadata": {
  "kernelspec": {
   "display_name": "Python 3",
   "language": "python",
   "name": "python3"
  },
  "language_info": {
   "codemirror_mode": {
    "name": "ipython",
    "version": 3
   },
   "file_extension": ".py",
   "mimetype": "text/x-python",
   "name": "python",
   "nbconvert_exporter": "python",
   "pygments_lexer": "ipython3",
   "version": "3.7.8"
  }
 },
 "nbformat": 4,
 "nbformat_minor": 4
}
