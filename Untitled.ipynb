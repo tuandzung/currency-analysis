{
 "cells": [
  {
   "cell_type": "code",
   "execution_count": 1,
   "metadata": {},
   "outputs": [],
   "source": [
    "import os\n",
    "os.environ['PYSPARK_SUBMIT_ARGS'] = '--packages com.hortonworks.shc:shc-core:1.1.0.3.1.2.8-3 pyspark-shell --files $SPARK_HOME/conf/hbase-site.xml'"
   ]
  },
  {
   "cell_type": "code",
   "execution_count": 2,
   "metadata": {},
   "outputs": [],
   "source": [
    "from pyspark.sql import SQLContext, SparkSession"
   ]
  },
  {
   "cell_type": "code",
   "execution_count": 3,
   "metadata": {},
   "outputs": [],
   "source": [
    "spark = SparkSession \\\n",
    "        .builder \\\n",
    "        .appName('test') \\\n",
    "        .getOrCreate()"
   ]
  },
  {
   "cell_type": "code",
   "execution_count": 4,
   "metadata": {},
   "outputs": [],
   "source": [
    "sc = spark.sparkContext"
   ]
  },
  {
   "cell_type": "code",
   "execution_count": 5,
   "metadata": {},
   "outputs": [],
   "source": [
    "sqlc = SQLContext(sc)"
   ]
  },
  {
   "cell_type": "code",
   "execution_count": 6,
   "metadata": {},
   "outputs": [],
   "source": [
    "import json\n",
    "\n",
    "catalog = json.dumps({\n",
    "    \"table\": {\"namespace\": \"default\", \"name\": \"coins\"},\n",
    "    \"rowkey\": \"key\",\n",
    "    \"columns\": {\n",
    "        \"id\":{\"cf\": \"rowkey\", \"col\": \"key\", \"type\": \"string\"},\n",
    "        \"open\":{\"cf\": \"p\", \"col\": \"open\", \"type\": \"float\"},\n",
    "        \"high\":{\"cf\": \"p\", \"col\": \"high\", \"type\": \"float\"},\n",
    "        \"low\":{\"cf\": \"p\", \"col\": \"low\", \"type\": \"float\"},\n",
    "        \"close\":{\"cf\": \"p\", \"col\": \"close\", \"type\": \"float\"},\n",
    "    }\n",
    "})"
   ]
  },
  {
   "cell_type": "code",
   "execution_count": 19,
   "metadata": {},
   "outputs": [
    {
     "name": "stdout",
     "output_type": "stream",
     "text": [
      "+--------+-------+-------------------+--------+--------+--------+--------+\n",
      "|exchange| symbol|               time|    open|    high|     low|   close|\n",
      "+--------+-------+-------------------+--------+--------+--------+--------+\n",
      "|Coinbase|BTC-USD|2020-07-31 09:10:00|11122.24| 11152.9|11121.97| 11152.9|\n",
      "|Coinbase|BTC-USD|2020-07-31 09:15:00| 11153.4|11160.75|11149.05|11159.81|\n",
      "|Coinbase|BTC-USD|2020-07-31 09:20:00| 11159.8| 11159.8|11145.72|11147.45|\n",
      "|Coinbase|BTC-USD|2020-07-31 09:25:00|11147.45|11157.13|11147.44|11155.94|\n",
      "|Coinbase|BTC-USD|2020-07-31 09:30:00|11155.93|11155.94|11134.48|11137.29|\n",
      "|Coinbase|BTC-USD|2020-07-31 09:35:00|11137.29|11152.34|11137.17|11149.96|\n",
      "|Coinbase|BTC-USD|2020-07-31 09:40:00|11151.22|11151.23|11119.59|11125.41|\n",
      "|Coinbase|BTC-USD|2020-07-31 09:45:00|11125.41|11125.41|11120.13|11120.14|\n",
      "|Coinbase|BTC-USD|2020-07-31 09:50:00|11120.13|11123.55|11115.67|11118.46|\n",
      "|Coinbase|BTC-USD|2020-07-31 09:55:00|11118.45|11123.74|11115.82|11117.06|\n",
      "|Coinbase|BTC-USD|2020-07-31 10:00:00|11117.06|11120.86|11117.05|11120.85|\n",
      "|Coinbase|BTC-USD|2020-07-31 10:05:00|11120.86|11123.01|11117.47|11123.01|\n",
      "|Coinbase|ETH-BTC|2020-07-31 09:10:00| 0.03042| 0.03043| 0.03041| 0.03041|\n",
      "|Coinbase|ETH-BTC|2020-07-31 09:15:00| 0.03042| 0.03043| 0.03041| 0.03043|\n",
      "|Coinbase|ETH-BTC|2020-07-31 09:20:00| 0.03041| 0.03061| 0.03041| 0.03043|\n",
      "|Coinbase|ETH-BTC|2020-07-31 09:25:00| 0.03044| 0.03048| 0.03043| 0.03048|\n",
      "|Coinbase|ETH-BTC|2020-07-31 09:30:00| 0.03047| 0.03047| 0.03044| 0.03047|\n",
      "|Coinbase|ETH-BTC|2020-07-31 09:35:00| 0.03047| 0.03047| 0.03043| 0.03044|\n",
      "|Coinbase|ETH-BTC|2020-07-31 09:40:00| 0.03044| 0.03044|  0.0303| 0.03031|\n",
      "|Coinbase|ETH-BTC|2020-07-31 09:45:00| 0.03036| 0.03039| 0.03035| 0.03037|\n",
      "+--------+-------+-------------------+--------+--------+--------+--------+\n",
      "only showing top 20 rows\n",
      "\n"
     ]
    }
   ],
   "source": [
    "import pyspark.sql.functions as F\n",
    "import pyspark.sql.types as t\n",
    "from datetime import datetime\n",
    "\n",
    "df = sqlc.read.options(catalog=catalog) \\\n",
    "    .format('org.apache.spark.sql.execution.datasources.hbase') \\\n",
    "    .load()\n",
    "\n",
    "@F.udf(t.StructType([t.StructField(\"exchange\", t.StringType(), True), t.StructField(\"symbol\", t.StringType(), True), t.StructField(\"time\", t.TimestampType(), True)]))\n",
    "def split_cols(array):\n",
    "    return (array[0], array[1], datetime.fromtimestamp(int(array[2])))\n",
    "\n",
    "df.withColumn('id', split_cols(F.split('id', '\\n'))) \\\n",
    "  .select('id.*', 'open', 'high', 'low', 'close').show()"
   ]
  },
  {
   "cell_type": "code",
   "execution_count": 8,
   "metadata": {},
   "outputs": [
    {
     "name": "stdout",
     "output_type": "stream",
     "text": [
      "+--------+-------+-------------------+-----+-----+-----+-----+\n",
      "|exchange| symbol|               time| open| high|  low|close|\n",
      "+--------+-------+-------------------+-----+-----+-----+-----+\n",
      "|Coinbase|LTC-USD|2020-07-31 09:10:00|56.78|56.95|56.78|56.94|\n",
      "|Coinbase|LTC-USD|2020-07-31 09:15:00|56.95|56.97|56.94|56.96|\n",
      "+--------+-------+-------------------+-----+-----+-----+-----+\n",
      "\n"
     ]
    }
   ],
   "source": [
    "df.filter(\"id >= 'Coinbase\\nLTC-USD\\n1596185000' AND id <= 'Coinbase\\nLTC-USD\\n1596187000'\") \\\n",
    "  .withColumn('id', split_cols(F.split('id', '\\n'))) \\\n",
    "  .select('id.*', 'open', 'high', 'low', 'close') \\\n",
    "  .show()"
   ]
  },
  {
   "cell_type": "code",
   "execution_count": 20,
   "metadata": {},
   "outputs": [
    {
     "name": "stdout",
     "output_type": "stream",
     "text": [
      "+--------+-------+-------------------+------+------+------+------+\n",
      "|exchange| symbol|               time|  open|  high|   low| close|\n",
      "+--------+-------+-------------------+------+------+------+------+\n",
      "|Coinbase|ETH-USD|2020-07-31 09:10:00|338.97| 339.0|338.81| 339.0|\n",
      "|Coinbase|ETH-USD|2020-07-31 09:15:00|339.23|339.61| 338.9|339.55|\n",
      "|Coinbase|ETH-USD|2020-07-31 09:20:00|339.55|339.56|339.08|339.23|\n",
      "|Coinbase|ETH-USD|2020-07-31 09:25:00|339.24|339.94|339.23|339.93|\n",
      "|Coinbase|ETH-USD|2020-07-31 09:30:00|339.94|339.94|339.12|339.25|\n",
      "|Coinbase|ETH-USD|2020-07-31 09:35:00|339.26| 339.4|338.94|339.38|\n",
      "|Coinbase|ETH-USD|2020-07-31 09:40:00|339.38|339.38| 336.9|337.36|\n",
      "|Coinbase|ETH-USD|2020-07-31 09:45:00|337.42|338.05|337.39|337.83|\n",
      "|Coinbase|ETH-USD|2020-07-31 09:50:00|337.76|337.76|337.15| 337.5|\n",
      "|Coinbase|ETH-USD|2020-07-31 09:55:00| 337.5|337.74| 337.5|337.74|\n",
      "|Coinbase|ETH-USD|2020-07-31 10:00:00|337.89|337.89|337.63|337.85|\n",
      "|Coinbase|ETH-USD|2020-07-31 10:05:00|337.71|337.71|337.27|337.39|\n",
      "+--------+-------+-------------------+------+------+------+------+\n",
      "\n"
     ]
    }
   ],
   "source": [
    "t0 = int(datetime().now().timestamp())\n",
    "t1 = int((datetime.now() - datetime.timedelta(hour=1)).timestamp())\n",
    "\n",
    "eth_df = df.filter(\"id >= 'Coinbase\\nLTC-USD\\n1596185000' AND id <= 'Coinbase\\nLTC-USD\\n1596187000'\") \\\n",
    "  .withColumn('id', split_cols(F.split('id', '\\n'))) \\\n",
    "  .select('id.*', 'open', 'high', 'low', 'close')\n",
    "\n",
    "eth_df.show()"
   ]
  },
  {
   "cell_type": "code",
   "execution_count": 10,
   "metadata": {},
   "outputs": [],
   "source": [
    "import plotly.graph_objs as go\n",
    "from plotly.offline import plot\n",
    "import pandas as pd"
   ]
  },
  {
   "cell_type": "code",
   "execution_count": 21,
   "metadata": {},
   "outputs": [
    {
     "data": {
      "text/html": [
       "<div>\n",
       "<style scoped>\n",
       "    .dataframe tbody tr th:only-of-type {\n",
       "        vertical-align: middle;\n",
       "    }\n",
       "\n",
       "    .dataframe tbody tr th {\n",
       "        vertical-align: top;\n",
       "    }\n",
       "\n",
       "    .dataframe thead th {\n",
       "        text-align: right;\n",
       "    }\n",
       "</style>\n",
       "<table border=\"1\" class=\"dataframe\">\n",
       "  <thead>\n",
       "    <tr style=\"text-align: right;\">\n",
       "      <th></th>\n",
       "      <th>exchange</th>\n",
       "      <th>symbol</th>\n",
       "      <th>time</th>\n",
       "      <th>open</th>\n",
       "      <th>high</th>\n",
       "      <th>low</th>\n",
       "      <th>close</th>\n",
       "    </tr>\n",
       "  </thead>\n",
       "  <tbody>\n",
       "    <tr>\n",
       "      <th>0</th>\n",
       "      <td>Coinbase</td>\n",
       "      <td>ETH-USD</td>\n",
       "      <td>2020-07-31 09:10:00</td>\n",
       "      <td>338.970001</td>\n",
       "      <td>339.000000</td>\n",
       "      <td>338.809998</td>\n",
       "      <td>339.000000</td>\n",
       "    </tr>\n",
       "    <tr>\n",
       "      <th>1</th>\n",
       "      <td>Coinbase</td>\n",
       "      <td>ETH-USD</td>\n",
       "      <td>2020-07-31 09:15:00</td>\n",
       "      <td>339.230011</td>\n",
       "      <td>339.609985</td>\n",
       "      <td>338.899994</td>\n",
       "      <td>339.549988</td>\n",
       "    </tr>\n",
       "    <tr>\n",
       "      <th>2</th>\n",
       "      <td>Coinbase</td>\n",
       "      <td>ETH-USD</td>\n",
       "      <td>2020-07-31 09:20:00</td>\n",
       "      <td>339.549988</td>\n",
       "      <td>339.559998</td>\n",
       "      <td>339.079987</td>\n",
       "      <td>339.230011</td>\n",
       "    </tr>\n",
       "    <tr>\n",
       "      <th>3</th>\n",
       "      <td>Coinbase</td>\n",
       "      <td>ETH-USD</td>\n",
       "      <td>2020-07-31 09:25:00</td>\n",
       "      <td>339.239990</td>\n",
       "      <td>339.940002</td>\n",
       "      <td>339.230011</td>\n",
       "      <td>339.929993</td>\n",
       "    </tr>\n",
       "    <tr>\n",
       "      <th>4</th>\n",
       "      <td>Coinbase</td>\n",
       "      <td>ETH-USD</td>\n",
       "      <td>2020-07-31 09:30:00</td>\n",
       "      <td>339.940002</td>\n",
       "      <td>339.940002</td>\n",
       "      <td>339.119995</td>\n",
       "      <td>339.250000</td>\n",
       "    </tr>\n",
       "    <tr>\n",
       "      <th>5</th>\n",
       "      <td>Coinbase</td>\n",
       "      <td>ETH-USD</td>\n",
       "      <td>2020-07-31 09:35:00</td>\n",
       "      <td>339.260010</td>\n",
       "      <td>339.399994</td>\n",
       "      <td>338.940002</td>\n",
       "      <td>339.380005</td>\n",
       "    </tr>\n",
       "    <tr>\n",
       "      <th>6</th>\n",
       "      <td>Coinbase</td>\n",
       "      <td>ETH-USD</td>\n",
       "      <td>2020-07-31 09:40:00</td>\n",
       "      <td>339.380005</td>\n",
       "      <td>339.380005</td>\n",
       "      <td>336.899994</td>\n",
       "      <td>337.359985</td>\n",
       "    </tr>\n",
       "    <tr>\n",
       "      <th>7</th>\n",
       "      <td>Coinbase</td>\n",
       "      <td>ETH-USD</td>\n",
       "      <td>2020-07-31 09:45:00</td>\n",
       "      <td>337.420013</td>\n",
       "      <td>338.049988</td>\n",
       "      <td>337.390015</td>\n",
       "      <td>337.829987</td>\n",
       "    </tr>\n",
       "    <tr>\n",
       "      <th>8</th>\n",
       "      <td>Coinbase</td>\n",
       "      <td>ETH-USD</td>\n",
       "      <td>2020-07-31 09:50:00</td>\n",
       "      <td>337.760010</td>\n",
       "      <td>337.760010</td>\n",
       "      <td>337.149994</td>\n",
       "      <td>337.500000</td>\n",
       "    </tr>\n",
       "    <tr>\n",
       "      <th>9</th>\n",
       "      <td>Coinbase</td>\n",
       "      <td>ETH-USD</td>\n",
       "      <td>2020-07-31 09:55:00</td>\n",
       "      <td>337.500000</td>\n",
       "      <td>337.739990</td>\n",
       "      <td>337.500000</td>\n",
       "      <td>337.739990</td>\n",
       "    </tr>\n",
       "  </tbody>\n",
       "</table>\n",
       "</div>"
      ],
      "text/plain": [
       "   exchange   symbol                time        open        high         low  \\\n",
       "0  Coinbase  ETH-USD 2020-07-31 09:10:00  338.970001  339.000000  338.809998   \n",
       "1  Coinbase  ETH-USD 2020-07-31 09:15:00  339.230011  339.609985  338.899994   \n",
       "2  Coinbase  ETH-USD 2020-07-31 09:20:00  339.549988  339.559998  339.079987   \n",
       "3  Coinbase  ETH-USD 2020-07-31 09:25:00  339.239990  339.940002  339.230011   \n",
       "4  Coinbase  ETH-USD 2020-07-31 09:30:00  339.940002  339.940002  339.119995   \n",
       "5  Coinbase  ETH-USD 2020-07-31 09:35:00  339.260010  339.399994  338.940002   \n",
       "6  Coinbase  ETH-USD 2020-07-31 09:40:00  339.380005  339.380005  336.899994   \n",
       "7  Coinbase  ETH-USD 2020-07-31 09:45:00  337.420013  338.049988  337.390015   \n",
       "8  Coinbase  ETH-USD 2020-07-31 09:50:00  337.760010  337.760010  337.149994   \n",
       "9  Coinbase  ETH-USD 2020-07-31 09:55:00  337.500000  337.739990  337.500000   \n",
       "\n",
       "        close  \n",
       "0  339.000000  \n",
       "1  339.549988  \n",
       "2  339.230011  \n",
       "3  339.929993  \n",
       "4  339.250000  \n",
       "5  339.380005  \n",
       "6  337.359985  \n",
       "7  337.829987  \n",
       "8  337.500000  \n",
       "9  337.739990  "
      ]
     },
     "execution_count": 21,
     "metadata": {},
     "output_type": "execute_result"
    }
   ],
   "source": [
    "eth_pd = eth_df.toPandas()\n",
    "eth_pd.head(10)"
   ]
  },
  {
   "cell_type": "code",
   "execution_count": 22,
   "metadata": {},
   "outputs": [
    {
     "data": {
      "text/plain": [
       "'temp-plot.html'"
      ]
     },
     "execution_count": 22,
     "metadata": {},
     "output_type": "execute_result"
    }
   ],
   "source": [
    "fig = go.Figure(data=[go.Candlestick(x=eth_pd['time'],\n",
    "                open=eth_pd['open'],\n",
    "                high=eth_pd['high'],\n",
    "                low=eth_pd['low'],\n",
    "                close=eth_pd['close'])])\n",
    "plot(fig)"
   ]
  },
  {
   "cell_type": "code",
   "execution_count": null,
   "metadata": {},
   "outputs": [],
   "source": []
  }
 ],
 "metadata": {
  "kernelspec": {
   "display_name": "Python 3",
   "language": "python",
   "name": "python3"
  },
  "language_info": {
   "codemirror_mode": {
    "name": "ipython",
    "version": 3
   },
   "file_extension": ".py",
   "mimetype": "text/x-python",
   "name": "python",
   "nbconvert_exporter": "python",
   "pygments_lexer": "ipython3",
   "version": "3.7.8"
  }
 },
 "nbformat": 4,
 "nbformat_minor": 4
}
